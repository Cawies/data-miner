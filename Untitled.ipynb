{
 "cells": [
  {
   "cell_type": "code",
   "execution_count": 5,
   "metadata": {},
   "outputs": [],
   "source": [
    "from sklearn.preprocessing import StandardScaler\n",
    "from sklearn.model_selection import train_test_split\n",
    "import pandas as pd\n",
    "import numpy as np\n",
    "from sklearn.model_selection import RandomizedSearchCV\n",
    "from sklearn.model_selection import cross_validate, ShuffleSplit\n",
    "from sklearn import ensemble, naive_bayes, tree\n",
    "from sklearn.linear_model import LogisticRegression\n",
    "import ast\n",
    "from sklearn.linear_model import LogisticRegression\n",
    "import joblib\n",
    "\n",
    "\n",
    "\n",
    "from config import config"
   ]
  },
  {
   "cell_type": "code",
   "execution_count": 2,
   "metadata": {},
   "outputs": [],
   "source": [
    "\n",
    "reduced_data = pd.read_excel('./output/reduced_data.xlsx')\n",
    "\n",
    "\n",
    "X_train, X_test, y_train, y_test = train_test_split(\n",
    "    reduced_data.drop(config.TARGET, axis=1), \n",
    "    reduced_data[config.TARGET], \n",
    "    test_size=0.20, \n",
    "    stratify=reduced_data[config.TARGET], \n",
    "    random_state=config.RANDOM_STATE)"
   ]
  },
  {
   "cell_type": "code",
   "execution_count": 38,
   "metadata": {},
   "outputs": [],
   "source": [
    "# Internal modules\n",
    "from config import config\n",
    "\n",
    "def BaseLineModels(models, X, y):\n",
    "    \n",
    "    row_index = 0\n",
    "    cv_split = ShuffleSplit(n_splits = 10, test_size = .3, train_size = .7, random_state = 42)\n",
    "    baseline_output = pd.DataFrame(columns=['model', 'mean_train_acc', 'mean_test_acc', 'parameters'])\n",
    "    \n",
    "    for model in [models[key]['model'] for key in models]:\n",
    "        baseline_output.loc[row_index, 'model'] = model.__class__.__name__\n",
    "        cross_validation_result = cross_validate(model, X, y, cv = cv_split, return_train_score=True, scoring='f1')\n",
    "        model_parameters = model.fit(X, y).get_params()\n",
    "        \n",
    "        baseline_output.loc[row_index, 'mean_train_acc'] = cross_validation_result['train_score'].mean()\n",
    "        baseline_output.loc[row_index, 'mean_test_acc'] = cross_validation_result['test_score'].mean()\n",
    "        baseline_output.loc[row_index, 'parameters'] = [model_parameters]\n",
    "        row_index+=1\n",
    "        \n",
    "        \n",
    "        \n",
    "    baseline_output.sort_values(by='mean_test_acc', ascending=False, inplace=True)\n",
    "    \n",
    "    row_index = 0\n",
    "    tuned_output = pd.DataFrame(columns=['model', 'mean_train_acc_tuned', 'mean_test_acc_tuned', 'parameters_tuned'])\n",
    "    \n",
    "    for model in [models[key] for key in models]:\n",
    "        tuned_output.loc[row_index, 'model'] = model['model'].__class__.__name__\n",
    "        tuned_model = RandomizedSearchCV(model['model'], param_distributions=model['param_grid'], scoring = 'f1', cv = cv_split, return_train_score=True)\n",
    "        tuned_model.fit(X, y)\n",
    "\n",
    "        tuned_output.loc[row_index, 'mean_train_acc_tuned'] = tuned_model.cv_results_['mean_train_score'][tuned_model.best_index_]\n",
    "        tuned_output.loc[row_index, 'mean_test_acc_tuned'] = tuned_model.cv_results_['mean_test_score'][tuned_model.best_index_]\n",
    "        tuned_output.loc[row_index, 'parameters_tuned'] = [tuned_model.best_params_]\n",
    "        row_index+=1\n",
    "\n",
    "    \n",
    "\n",
    "    output = baseline_output.join(tuned_output.set_index('model'), on='model')\n",
    "    output.sort_values(by='mean_test_acc_tuned', ascending=False, inplace=True)\n",
    "    \n",
    "    best_model = models[output.iloc[0][['model']].values[0]]['model']\n",
    "    best_parameters = output.iloc[0]['parameters_tuned'][0]\n",
    "    best_model = best_model.set_params(**best_parameters)\n",
    "    \n",
    "    return output, best_model, best_parameters #baseline_output, tuned_output"
   ]
  },
  {
   "cell_type": "code",
   "execution_count": 39,
   "metadata": {},
   "outputs": [
    {
     "name": "stderr",
     "output_type": "stream",
     "text": [
      "C:\\Users\\Calle\\anaconda3\\lib\\site-packages\\sklearn\\model_selection\\_search.py:278: UserWarning: The total space of parameters 1 is smaller than n_iter=10. Running 1 iterations. For exhaustive searches, use GridSearchCV.\n",
      "  warnings.warn(\n",
      "C:\\Users\\Calle\\anaconda3\\lib\\site-packages\\sklearn\\model_selection\\_search.py:278: UserWarning: The total space of parameters 1 is smaller than n_iter=10. Running 1 iterations. For exhaustive searches, use GridSearchCV.\n",
      "  warnings.warn(\n",
      "C:\\Users\\Calle\\anaconda3\\lib\\site-packages\\sklearn\\model_selection\\_search.py:278: UserWarning: The total space of parameters 4 is smaller than n_iter=10. Running 4 iterations. For exhaustive searches, use GridSearchCV.\n",
      "  warnings.warn(\n"
     ]
    }
   ],
   "source": [
    "scaler = StandardScaler()\n",
    "output, model, params = BaseLineModels(config.MODELS, scaler.fit_transform(X_train), y_train)"
   ]
  },
  {
   "cell_type": "code",
   "execution_count": 40,
   "metadata": {},
   "outputs": [
    {
     "data": {
      "text/html": [
       "<div>\n",
       "<style scoped>\n",
       "    .dataframe tbody tr th:only-of-type {\n",
       "        vertical-align: middle;\n",
       "    }\n",
       "\n",
       "    .dataframe tbody tr th {\n",
       "        vertical-align: top;\n",
       "    }\n",
       "\n",
       "    .dataframe thead th {\n",
       "        text-align: right;\n",
       "    }\n",
       "</style>\n",
       "<table border=\"1\" class=\"dataframe\">\n",
       "  <thead>\n",
       "    <tr style=\"text-align: right;\">\n",
       "      <th></th>\n",
       "      <th>model</th>\n",
       "      <th>mean_train_acc</th>\n",
       "      <th>mean_test_acc</th>\n",
       "      <th>parameters</th>\n",
       "      <th>mean_train_acc_tuned</th>\n",
       "      <th>mean_test_acc_tuned</th>\n",
       "      <th>parameters_tuned</th>\n",
       "    </tr>\n",
       "  </thead>\n",
       "  <tbody>\n",
       "    <tr>\n",
       "      <th>1</th>\n",
       "      <td>LogisticRegression</td>\n",
       "      <td>0.666439</td>\n",
       "      <td>0.667745</td>\n",
       "      <td>[{'C': 100000.0, 'class_weight': {1: 0.7, 0: 0...</td>\n",
       "      <td>0.666439</td>\n",
       "      <td>0.667745</td>\n",
       "      <td>[{'solver': 'lbfgs', 'random_state': 42, 'pena...</td>\n",
       "    </tr>\n",
       "    <tr>\n",
       "      <th>3</th>\n",
       "      <td>GaussianNB</td>\n",
       "      <td>0.636489</td>\n",
       "      <td>0.634479</td>\n",
       "      <td>[{'priors': None, 'var_smoothing': 1e-09}]</td>\n",
       "      <td>0.636489</td>\n",
       "      <td>0.634479</td>\n",
       "      <td>[{}]</td>\n",
       "    </tr>\n",
       "    <tr>\n",
       "      <th>2</th>\n",
       "      <td>BernoulliNB</td>\n",
       "      <td>0.621782</td>\n",
       "      <td>0.631832</td>\n",
       "      <td>[{'alpha': 1.0, 'binarize': 0.0, 'class_prior'...</td>\n",
       "      <td>0.621782</td>\n",
       "      <td>0.631832</td>\n",
       "      <td>[{}]</td>\n",
       "    </tr>\n",
       "    <tr>\n",
       "      <th>5</th>\n",
       "      <td>AdaBoostClassifier</td>\n",
       "      <td>0.669815</td>\n",
       "      <td>0.630257</td>\n",
       "      <td>[{'algorithm': 'SAMME.R', 'base_estimator': No...</td>\n",
       "      <td>0.669815</td>\n",
       "      <td>0.630257</td>\n",
       "      <td>[{'base_estimator': None}]</td>\n",
       "    </tr>\n",
       "    <tr>\n",
       "      <th>6</th>\n",
       "      <td>RandomForestClassifier</td>\n",
       "      <td>0.998153</td>\n",
       "      <td>0.622005</td>\n",
       "      <td>[{'bootstrap': True, 'ccp_alpha': 0.0, 'class_...</td>\n",
       "      <td>0.918611</td>\n",
       "      <td>0.623807</td>\n",
       "      <td>[{'random_state': 42, 'n_estimators': 35, 'min...</td>\n",
       "    </tr>\n",
       "    <tr>\n",
       "      <th>4</th>\n",
       "      <td>DecisionTreeClassifier</td>\n",
       "      <td>0.99815</td>\n",
       "      <td>0.550138</td>\n",
       "      <td>[{'ccp_alpha': 0.0, 'class_weight': None, 'cri...</td>\n",
       "      <td>0.635293</td>\n",
       "      <td>0.610777</td>\n",
       "      <td>[{'splitter': 'best', 'random_state': 42, 'max...</td>\n",
       "    </tr>\n",
       "    <tr>\n",
       "      <th>0</th>\n",
       "      <td>KNeighborsClassifier</td>\n",
       "      <td>0.699501</td>\n",
       "      <td>0.570849</td>\n",
       "      <td>[{'algorithm': 'auto', 'leaf_size': 30, 'metri...</td>\n",
       "      <td>0.99815</td>\n",
       "      <td>0.580118</td>\n",
       "      <td>[{'weights': 'distance', 'p': 1, 'n_neighbors'...</td>\n",
       "    </tr>\n",
       "  </tbody>\n",
       "</table>\n",
       "</div>"
      ],
      "text/plain": [
       "                    model mean_train_acc mean_test_acc  \\\n",
       "1      LogisticRegression       0.666439      0.667745   \n",
       "3              GaussianNB       0.636489      0.634479   \n",
       "2             BernoulliNB       0.621782      0.631832   \n",
       "5      AdaBoostClassifier       0.669815      0.630257   \n",
       "6  RandomForestClassifier       0.998153      0.622005   \n",
       "4  DecisionTreeClassifier        0.99815      0.550138   \n",
       "0    KNeighborsClassifier       0.699501      0.570849   \n",
       "\n",
       "                                          parameters mean_train_acc_tuned  \\\n",
       "1  [{'C': 100000.0, 'class_weight': {1: 0.7, 0: 0...             0.666439   \n",
       "3         [{'priors': None, 'var_smoothing': 1e-09}]             0.636489   \n",
       "2  [{'alpha': 1.0, 'binarize': 0.0, 'class_prior'...             0.621782   \n",
       "5  [{'algorithm': 'SAMME.R', 'base_estimator': No...             0.669815   \n",
       "6  [{'bootstrap': True, 'ccp_alpha': 0.0, 'class_...             0.918611   \n",
       "4  [{'ccp_alpha': 0.0, 'class_weight': None, 'cri...             0.635293   \n",
       "0  [{'algorithm': 'auto', 'leaf_size': 30, 'metri...              0.99815   \n",
       "\n",
       "  mean_test_acc_tuned                                   parameters_tuned  \n",
       "1            0.667745  [{'solver': 'lbfgs', 'random_state': 42, 'pena...  \n",
       "3            0.634479                                               [{}]  \n",
       "2            0.631832                                               [{}]  \n",
       "5            0.630257                         [{'base_estimator': None}]  \n",
       "6            0.623807  [{'random_state': 42, 'n_estimators': 35, 'min...  \n",
       "4            0.610777  [{'splitter': 'best', 'random_state': 42, 'max...  \n",
       "0            0.580118  [{'weights': 'distance', 'p': 1, 'n_neighbors'...  "
      ]
     },
     "execution_count": 40,
     "metadata": {},
     "output_type": "execute_result"
    }
   ],
   "source": [
    "output"
   ]
  },
  {
   "cell_type": "code",
   "execution_count": null,
   "metadata": {},
   "outputs": [],
   "source": []
  },
  {
   "cell_type": "code",
   "execution_count": 13,
   "metadata": {},
   "outputs": [],
   "source": [
    "\n",
    "\n",
    "df = pd.read_excel('model_performances.xlsx')\n",
    "best_model = config.MODELS[df.iloc[0][['model']].values[0]]['model']\n",
    "best_parameters = ast.literal_eval(df.iloc[0][['model', 'parameters_tuned']].values[1])\n",
    "\n",
    "best_model = best_model.set_params(**best_parameters[0])"
   ]
  },
  {
   "cell_type": "code",
   "execution_count": 16,
   "metadata": {},
   "outputs": [
    {
     "data": {
      "text/plain": [
       "\"{'solver': 'lbfgs', 'random_state': 42, 'penalty': 'l2', 'max_iter': 1000, 'class_weight': {1: 0.7, 0: 0.3}, 'C': 100000.0}\""
      ]
     },
     "execution_count": 16,
     "metadata": {},
     "output_type": "execute_result"
    }
   ],
   "source": [
    "df.iloc[0][['model', 'parameters_tuned']].values[1].strip('[]')"
   ]
  },
  {
   "cell_type": "code",
   "execution_count": null,
   "metadata": {},
   "outputs": [],
   "source": [
    "best_parameters = ast.literal_eval(df.iloc[0][['parameters_tuned']].values[0].strip('[]'))\n",
    "best_parameters"
   ]
  },
  {
   "cell_type": "code",
   "execution_count": null,
   "metadata": {},
   "outputs": [],
   "source": [
    "df.iloc[0][['parameters_tuned']].values[0].strip('[]')"
   ]
  },
  {
   "cell_type": "code",
   "execution_count": null,
   "metadata": {},
   "outputs": [],
   "source": [
    "joblib.dump(best_model, 'model_output.pkl')"
   ]
  },
  {
   "cell_type": "code",
   "execution_count": null,
   "metadata": {},
   "outputs": [],
   "source": [
    "best_parameters = ast.literal_eval(df.iloc[0][['model', 'parameters_tuned']].values[1])\n",
    "best_parameters"
   ]
  },
  {
   "cell_type": "code",
   "execution_count": null,
   "metadata": {},
   "outputs": [],
   "source": [
    "ape_lord = joblib.load('model_output.pkl')"
   ]
  },
  {
   "cell_type": "code",
   "execution_count": null,
   "metadata": {},
   "outputs": [],
   "source": [
    "ape_lord"
   ]
  },
  {
   "cell_type": "code",
   "execution_count": null,
   "metadata": {},
   "outputs": [],
   "source": [
    "def save_model(*, model_to_save):\n",
    "    save_model_name ="
   ]
  },
  {
   "cell_type": "code",
   "execution_count": null,
   "metadata": {},
   "outputs": [],
   "source": [
    "X.to_excel(f\"{self.output_folder}/reduced_data.xlsx\", index=False)"
   ]
  },
  {
   "cell_type": "code",
   "execution_count": null,
   "metadata": {},
   "outputs": [],
   "source": [
    "config.OUTPUT_DIR/"
   ]
  },
  {
   "cell_type": "code",
   "execution_count": null,
   "metadata": {},
   "outputs": [],
   "source": [
    "config.PERFORMANCE_OUTPUT_FILE"
   ]
  },
  {
   "cell_type": "code",
   "execution_count": null,
   "metadata": {},
   "outputs": [],
   "source": [
    "joblib.dump(best_model, f\"{config.OUTPUT_DIR/}\")"
   ]
  },
  {
   "cell_type": "code",
   "execution_count": null,
   "metadata": {},
   "outputs": [],
   "source": [
    "config.MODELS[df.iloc[0][['model']].values[0]]['model']"
   ]
  },
  {
   "cell_type": "code",
   "execution_count": null,
   "metadata": {},
   "outputs": [],
   "source": [
    "config.MODELS[df.iloc[0]]"
   ]
  },
  {
   "cell_type": "code",
   "execution_count": null,
   "metadata": {},
   "outputs": [],
   "source": [
    "df.iloc[0]['model']"
   ]
  },
  {
   "cell_type": "code",
   "execution_count": null,
   "metadata": {},
   "outputs": [],
   "source": [
    "df"
   ]
  },
  {
   "cell_type": "code",
   "execution_count": null,
   "metadata": {},
   "outputs": [],
   "source": [
    "df.to_excel('./output/goat.xlsx', index=False)"
   ]
  },
  {
   "cell_type": "code",
   "execution_count": null,
   "metadata": {},
   "outputs": [],
   "source": []
  }
 ],
 "metadata": {
  "kernelspec": {
   "display_name": "Python 3",
   "language": "python",
   "name": "python3"
  },
  "language_info": {
   "codemirror_mode": {
    "name": "ipython",
    "version": 3
   },
   "file_extension": ".py",
   "mimetype": "text/x-python",
   "name": "python",
   "nbconvert_exporter": "python",
   "pygments_lexer": "ipython3",
   "version": "3.8.3"
  }
 },
 "nbformat": 4,
 "nbformat_minor": 4
}
