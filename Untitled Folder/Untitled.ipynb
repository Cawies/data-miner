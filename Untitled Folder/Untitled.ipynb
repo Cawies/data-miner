{
 "cells": [
  {
   "cell_type": "code",
   "execution_count": 53,
   "metadata": {},
   "outputs": [],
   "source": [
    "import pandas as pd\n",
    "import numpy as np\n",
    "import matplotlib.pyplot as plt\n",
    "import seaborn as sns\n",
    "\n",
    "%matplotlib inline\n",
    "sns.set_style('whitegrid')\n",
    "PALETTE='RdBu_r'\n",
    "\n",
    "from sklearn.model_selection import train_test_split\n",
    "from sklearn.preprocessing import StandardScaler\n",
    "from sklearn.linear_model import LogisticRegression, Lasso\n",
    "from sklearn.ensemble import RandomForestClassifier\n",
    "\n",
    "from sklearn.metrics import classification_report\n",
    "from sklearn.metrics import confusion_matrix\n",
    "from sklearn.feature_selection import SelectFromModel"
   ]
  },
  {
   "cell_type": "code",
   "execution_count": 2,
   "metadata": {},
   "outputs": [
    {
     "data": {
      "text/plain": [
       "((2081, 12), (892, 12))"
      ]
     },
     "execution_count": 2,
     "metadata": {},
     "output_type": "execute_result"
    }
   ],
   "source": [
    "df = pd.read_excel('../output/reduced_data.xlsx')\n",
    "\n",
    "# separate dataset into train and test\n",
    "X_train, X_test, y_train, y_test = train_test_split(\n",
    "    df.drop(labels=['Target'], axis=1),\n",
    "    df['Target'],\n",
    "    test_size=0.3,\n",
    "    random_state=0)\n",
    "\n",
    "X_train.shape, X_test.shape"
   ]
  },
  {
   "cell_type": "markdown",
   "metadata": {},
   "source": [
    "##### Logistic Regression"
   ]
  },
  {
   "cell_type": "code",
   "execution_count": 67,
   "metadata": {},
   "outputs": [
    {
     "name": "stdout",
     "output_type": "stream",
     "text": [
      "              precision    recall  f1-score   support\n",
      "\n",
      "           0       0.68      0.92      0.79      1373\n",
      "           1       0.54      0.17      0.26       708\n",
      "\n",
      "    accuracy                           0.67      2081\n",
      "   macro avg       0.61      0.55      0.52      2081\n",
      "weighted avg       0.63      0.67      0.61      2081\n",
      "\n",
      "[[1270  103]\n",
      " [ 588  120]]\n"
     ]
    }
   ],
   "source": [
    "scaler = StandardScaler()\n",
    "lr = LogisticRegression(solver = 'lbfgs', random_state=42)\n",
    "lr.fit(scaler.fit_transform(X_train), y_train)\n",
    "y_pred = lr.predict(X_train)\n",
    "\n",
    "print(classification_report(y_train, y_pred))\n",
    "print(confusion_matrix(y_train, y_pred))"
   ]
  },
  {
   "cell_type": "markdown",
   "metadata": {},
   "source": [
    "##### Random Forest Classifier"
   ]
  },
  {
   "cell_type": "code",
   "execution_count": 70,
   "metadata": {},
   "outputs": [
    {
     "name": "stdout",
     "output_type": "stream",
     "text": [
      "              precision    recall  f1-score   support\n",
      "\n",
      "           0       0.97      0.99      0.98      1373\n",
      "           1       0.99      0.95      0.97       708\n",
      "\n",
      "    accuracy                           0.98      2081\n",
      "   macro avg       0.98      0.97      0.98      2081\n",
      "weighted avg       0.98      0.98      0.98      2081\n",
      "\n"
     ]
    }
   ],
   "source": [
    "rf = RandomForestClassifier(criterion='gini',\n",
    "                           n_estimators=10,\n",
    "                           random_state=42)\n",
    "\n",
    "rf.fit(X_train, y_train)\n",
    "y_pred = rf.predict(X_train)\n",
    "\n",
    "print(classification_report(y_train, y_pred))"
   ]
  },
  {
   "cell_type": "markdown",
   "metadata": {},
   "source": [
    "##### Support Vector Machine"
   ]
  },
  {
   "cell_type": "code",
   "execution_count": 71,
   "metadata": {},
   "outputs": [],
   "source": [
    "from sklearn.svm import SVC"
   ]
  },
  {
   "cell_type": "code",
   "execution_count": 82,
   "metadata": {},
   "outputs": [
    {
     "name": "stdout",
     "output_type": "stream",
     "text": [
      "              precision    recall  f1-score   support\n",
      "\n",
      "           0       0.68      0.92      0.79      1373\n",
      "           1       0.54      0.17      0.26       708\n",
      "\n",
      "    accuracy                           0.67      2081\n",
      "   macro avg       0.61      0.55      0.52      2081\n",
      "weighted avg       0.63      0.67      0.61      2081\n",
      "\n"
     ]
    }
   ],
   "source": [
    "svm = SVC(kernel='linear', C=1.0, random_state=42)\n",
    "svm.fit(scaler.fit_transform(X_train), y_train)\n",
    "\n",
    "y_pred = svm.predict(X_train)\n",
    "\n",
    "print(classification_report(y_train, y_pred))"
   ]
  },
  {
   "cell_type": "markdown",
   "metadata": {},
   "source": [
    "##### KNN"
   ]
  },
  {
   "cell_type": "code",
   "execution_count": 75,
   "metadata": {},
   "outputs": [],
   "source": [
    "from sklearn.neighbors import KNeighborsClassifier"
   ]
  },
  {
   "cell_type": "code",
   "execution_count": 79,
   "metadata": {},
   "outputs": [
    {
     "name": "stdout",
     "output_type": "stream",
     "text": [
      "              precision    recall  f1-score   support\n",
      "\n",
      "           0       0.69      0.95      0.80      1373\n",
      "           1       0.67      0.19      0.29       708\n",
      "\n",
      "    accuracy                           0.69      2081\n",
      "   macro avg       0.68      0.57      0.55      2081\n",
      "weighted avg       0.69      0.69      0.63      2081\n",
      "\n"
     ]
    }
   ],
   "source": [
    "knn = KNeighborsClassifier(n_neighbors=3)\n",
    "knn.fit(scaler.fit_transform(X_train), y_train)\n",
    "y_pred = knn.predict(X_train)\n",
    "print(classification_report(y_train, y_pred))"
   ]
  },
  {
   "cell_type": "code",
   "execution_count": 80,
   "metadata": {},
   "outputs": [
    {
     "data": {
      "text/plain": [
       "0.691975012013455"
      ]
     },
     "execution_count": 80,
     "metadata": {},
     "output_type": "execute_result"
    }
   ],
   "source": [
    "knn.score(X_train, y_train)"
   ]
  },
  {
   "cell_type": "code",
   "execution_count": 81,
   "metadata": {},
   "outputs": [
    {
     "data": {
      "text/plain": [
       "0.6674675636713119"
      ]
     },
     "execution_count": 81,
     "metadata": {},
     "output_type": "execute_result"
    }
   ],
   "source": [
    "svm.score(X_train, y_train)"
   ]
  },
  {
   "cell_type": "code",
   "execution_count": 83,
   "metadata": {},
   "outputs": [
    {
     "data": {
      "text/html": [
       "<div>\n",
       "<style scoped>\n",
       "    .dataframe tbody tr th:only-of-type {\n",
       "        vertical-align: middle;\n",
       "    }\n",
       "\n",
       "    .dataframe tbody tr th {\n",
       "        vertical-align: top;\n",
       "    }\n",
       "\n",
       "    .dataframe thead th {\n",
       "        text-align: right;\n",
       "    }\n",
       "</style>\n",
       "<table border=\"1\" class=\"dataframe\">\n",
       "  <thead>\n",
       "    <tr style=\"text-align: right;\">\n",
       "      <th></th>\n",
       "      <th>v2a1</th>\n",
       "      <th>rooms</th>\n",
       "      <th>escolari</th>\n",
       "      <th>overcrowding</th>\n",
       "      <th>SQBdependency</th>\n",
       "      <th>roof</th>\n",
       "      <th>escolari-min</th>\n",
       "      <th>escolari-max</th>\n",
       "      <th>escolari-sum</th>\n",
       "      <th>escolari-std</th>\n",
       "      <th>age-min</th>\n",
       "      <th>age-std</th>\n",
       "      <th>Target</th>\n",
       "    </tr>\n",
       "  </thead>\n",
       "  <tbody>\n",
       "    <tr>\n",
       "      <th>0</th>\n",
       "      <td>190000</td>\n",
       "      <td>3</td>\n",
       "      <td>10</td>\n",
       "      <td>1.000000</td>\n",
       "      <td>0.000000</td>\n",
       "      <td>0</td>\n",
       "      <td>10</td>\n",
       "      <td>10</td>\n",
       "      <td>10</td>\n",
       "      <td>0.000000</td>\n",
       "      <td>43</td>\n",
       "      <td>0.000000</td>\n",
       "      <td>0</td>\n",
       "    </tr>\n",
       "    <tr>\n",
       "      <th>1</th>\n",
       "      <td>135000</td>\n",
       "      <td>4</td>\n",
       "      <td>12</td>\n",
       "      <td>1.000000</td>\n",
       "      <td>64.000000</td>\n",
       "      <td>1</td>\n",
       "      <td>12</td>\n",
       "      <td>12</td>\n",
       "      <td>12</td>\n",
       "      <td>0.000000</td>\n",
       "      <td>67</td>\n",
       "      <td>0.000000</td>\n",
       "      <td>0</td>\n",
       "    </tr>\n",
       "    <tr>\n",
       "      <th>2</th>\n",
       "      <td>0</td>\n",
       "      <td>8</td>\n",
       "      <td>11</td>\n",
       "      <td>0.500000</td>\n",
       "      <td>64.000000</td>\n",
       "      <td>2</td>\n",
       "      <td>11</td>\n",
       "      <td>11</td>\n",
       "      <td>11</td>\n",
       "      <td>0.000000</td>\n",
       "      <td>92</td>\n",
       "      <td>0.000000</td>\n",
       "      <td>0</td>\n",
       "    </tr>\n",
       "    <tr>\n",
       "      <th>3</th>\n",
       "      <td>180000</td>\n",
       "      <td>5</td>\n",
       "      <td>11</td>\n",
       "      <td>1.333333</td>\n",
       "      <td>1.000000</td>\n",
       "      <td>2</td>\n",
       "      <td>2</td>\n",
       "      <td>11</td>\n",
       "      <td>33</td>\n",
       "      <td>4.272002</td>\n",
       "      <td>8</td>\n",
       "      <td>14.899664</td>\n",
       "      <td>0</td>\n",
       "    </tr>\n",
       "    <tr>\n",
       "      <th>4</th>\n",
       "      <td>130000</td>\n",
       "      <td>2</td>\n",
       "      <td>9</td>\n",
       "      <td>4.000000</td>\n",
       "      <td>1.000000</td>\n",
       "      <td>0</td>\n",
       "      <td>0</td>\n",
       "      <td>11</td>\n",
       "      <td>23</td>\n",
       "      <td>5.123475</td>\n",
       "      <td>7</td>\n",
       "      <td>11.690452</td>\n",
       "      <td>0</td>\n",
       "    </tr>\n",
       "    <tr>\n",
       "      <th>...</th>\n",
       "      <td>...</td>\n",
       "      <td>...</td>\n",
       "      <td>...</td>\n",
       "      <td>...</td>\n",
       "      <td>...</td>\n",
       "      <td>...</td>\n",
       "      <td>...</td>\n",
       "      <td>...</td>\n",
       "      <td>...</td>\n",
       "      <td>...</td>\n",
       "      <td>...</td>\n",
       "      <td>...</td>\n",
       "      <td>...</td>\n",
       "    </tr>\n",
       "    <tr>\n",
       "      <th>2968</th>\n",
       "      <td>0</td>\n",
       "      <td>4</td>\n",
       "      <td>5</td>\n",
       "      <td>2.500000</td>\n",
       "      <td>2.250000</td>\n",
       "      <td>1</td>\n",
       "      <td>0</td>\n",
       "      <td>5</td>\n",
       "      <td>9</td>\n",
       "      <td>2.489980</td>\n",
       "      <td>6</td>\n",
       "      <td>11.489125</td>\n",
       "      <td>1</td>\n",
       "    </tr>\n",
       "    <tr>\n",
       "      <th>2969</th>\n",
       "      <td>0</td>\n",
       "      <td>3</td>\n",
       "      <td>2</td>\n",
       "      <td>2.500000</td>\n",
       "      <td>2.250000</td>\n",
       "      <td>0</td>\n",
       "      <td>0</td>\n",
       "      <td>6</td>\n",
       "      <td>17</td>\n",
       "      <td>2.607681</td>\n",
       "      <td>2</td>\n",
       "      <td>16.133815</td>\n",
       "      <td>1</td>\n",
       "    </tr>\n",
       "    <tr>\n",
       "      <th>2970</th>\n",
       "      <td>46500</td>\n",
       "      <td>5</td>\n",
       "      <td>2</td>\n",
       "      <td>2.333333</td>\n",
       "      <td>0.444444</td>\n",
       "      <td>1</td>\n",
       "      <td>0</td>\n",
       "      <td>11</td>\n",
       "      <td>30</td>\n",
       "      <td>5.049752</td>\n",
       "      <td>2</td>\n",
       "      <td>18.753666</td>\n",
       "      <td>0</td>\n",
       "    </tr>\n",
       "    <tr>\n",
       "      <th>2971</th>\n",
       "      <td>0</td>\n",
       "      <td>3</td>\n",
       "      <td>0</td>\n",
       "      <td>2.000000</td>\n",
       "      <td>1.000000</td>\n",
       "      <td>2</td>\n",
       "      <td>0</td>\n",
       "      <td>6</td>\n",
       "      <td>6</td>\n",
       "      <td>4.242641</td>\n",
       "      <td>61</td>\n",
       "      <td>4.242641</td>\n",
       "      <td>1</td>\n",
       "    </tr>\n",
       "    <tr>\n",
       "      <th>2972</th>\n",
       "      <td>80000</td>\n",
       "      <td>6</td>\n",
       "      <td>9</td>\n",
       "      <td>1.250000</td>\n",
       "      <td>0.062500</td>\n",
       "      <td>1</td>\n",
       "      <td>0</td>\n",
       "      <td>11</td>\n",
       "      <td>33</td>\n",
       "      <td>4.277850</td>\n",
       "      <td>2</td>\n",
       "      <td>19.570386</td>\n",
       "      <td>1</td>\n",
       "    </tr>\n",
       "  </tbody>\n",
       "</table>\n",
       "<p>2973 rows × 13 columns</p>\n",
       "</div>"
      ],
      "text/plain": [
       "        v2a1  rooms  escolari  overcrowding  SQBdependency  roof  \\\n",
       "0     190000      3        10      1.000000       0.000000     0   \n",
       "1     135000      4        12      1.000000      64.000000     1   \n",
       "2          0      8        11      0.500000      64.000000     2   \n",
       "3     180000      5        11      1.333333       1.000000     2   \n",
       "4     130000      2         9      4.000000       1.000000     0   \n",
       "...      ...    ...       ...           ...            ...   ...   \n",
       "2968       0      4         5      2.500000       2.250000     1   \n",
       "2969       0      3         2      2.500000       2.250000     0   \n",
       "2970   46500      5         2      2.333333       0.444444     1   \n",
       "2971       0      3         0      2.000000       1.000000     2   \n",
       "2972   80000      6         9      1.250000       0.062500     1   \n",
       "\n",
       "      escolari-min  escolari-max  escolari-sum  escolari-std  age-min  \\\n",
       "0               10            10            10      0.000000       43   \n",
       "1               12            12            12      0.000000       67   \n",
       "2               11            11            11      0.000000       92   \n",
       "3                2            11            33      4.272002        8   \n",
       "4                0            11            23      5.123475        7   \n",
       "...            ...           ...           ...           ...      ...   \n",
       "2968             0             5             9      2.489980        6   \n",
       "2969             0             6            17      2.607681        2   \n",
       "2970             0            11            30      5.049752        2   \n",
       "2971             0             6             6      4.242641       61   \n",
       "2972             0            11            33      4.277850        2   \n",
       "\n",
       "        age-std  Target  \n",
       "0      0.000000       0  \n",
       "1      0.000000       0  \n",
       "2      0.000000       0  \n",
       "3     14.899664       0  \n",
       "4     11.690452       0  \n",
       "...         ...     ...  \n",
       "2968  11.489125       1  \n",
       "2969  16.133815       1  \n",
       "2970  18.753666       0  \n",
       "2971   4.242641       1  \n",
       "2972  19.570386       1  \n",
       "\n",
       "[2973 rows x 13 columns]"
      ]
     },
     "execution_count": 83,
     "metadata": {},
     "output_type": "execute_result"
    }
   ],
   "source": [
    "df"
   ]
  },
  {
   "cell_type": "code",
   "execution_count": null,
   "metadata": {},
   "outputs": [],
   "source": []
  }
 ],
 "metadata": {
  "kernelspec": {
   "display_name": "Python 3",
   "language": "python",
   "name": "python3"
  },
  "language_info": {
   "codemirror_mode": {
    "name": "ipython",
    "version": 3
   },
   "file_extension": ".py",
   "mimetype": "text/x-python",
   "name": "python",
   "nbconvert_exporter": "python",
   "pygments_lexer": "ipython3",
   "version": "3.8.3"
  }
 },
 "nbformat": 4,
 "nbformat_minor": 4
}
